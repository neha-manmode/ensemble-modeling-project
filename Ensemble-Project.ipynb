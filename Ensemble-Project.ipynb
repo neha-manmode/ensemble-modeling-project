{
 "cells": [
  {
   "cell_type": "code",
   "execution_count": 1,
   "metadata": {},
   "outputs": [],
   "source": [
    "#import libraries\n",
    "import pandas as pd\n",
    "import seaborn as sns\n",
    "import numpy as np\n",
    "import matplotlib.pyplot as plt\n",
    "import scipy.stats as stats\n",
    "import os,sys\n",
    "\n",
    "from sklearn.linear_model import LogisticRegression\n",
    "from sklearn.model_selection import train_test_split\n",
    "from sklearn import metrics"
   ]
  },
  {
   "cell_type": "code",
   "execution_count": 2,
   "metadata": {},
   "outputs": [],
   "source": [
    "#read data\n",
    "data=pd.read_csv('bank-full.csv')"
   ]
  },
  {
   "cell_type": "code",
   "execution_count": 79,
   "metadata": {},
   "outputs": [
    {
     "data": {
      "text/html": [
       "<div>\n",
       "<style scoped>\n",
       "    .dataframe tbody tr th:only-of-type {\n",
       "        vertical-align: middle;\n",
       "    }\n",
       "\n",
       "    .dataframe tbody tr th {\n",
       "        vertical-align: top;\n",
       "    }\n",
       "\n",
       "    .dataframe thead th {\n",
       "        text-align: right;\n",
       "    }\n",
       "</style>\n",
       "<table border=\"1\" class=\"dataframe\">\n",
       "  <thead>\n",
       "    <tr style=\"text-align: right;\">\n",
       "      <th></th>\n",
       "      <th>age</th>\n",
       "      <th>balance</th>\n",
       "      <th>day</th>\n",
       "      <th>campaign</th>\n",
       "      <th>pdays</th>\n",
       "      <th>previous</th>\n",
       "      <th>job_admin.</th>\n",
       "      <th>job_blue-collar</th>\n",
       "      <th>job_entrepreneur</th>\n",
       "      <th>job_housemaid</th>\n",
       "      <th>...</th>\n",
       "      <th>month_may</th>\n",
       "      <th>month_nov</th>\n",
       "      <th>month_oct</th>\n",
       "      <th>month_sep</th>\n",
       "      <th>poutcome_failure</th>\n",
       "      <th>poutcome_other</th>\n",
       "      <th>poutcome_success</th>\n",
       "      <th>poutcome_unknown</th>\n",
       "      <th>Target_no</th>\n",
       "      <th>Target_yes</th>\n",
       "    </tr>\n",
       "  </thead>\n",
       "  <tbody>\n",
       "    <tr>\n",
       "      <th>0</th>\n",
       "      <td>58</td>\n",
       "      <td>2143</td>\n",
       "      <td>5</td>\n",
       "      <td>1</td>\n",
       "      <td>-1</td>\n",
       "      <td>0</td>\n",
       "      <td>0</td>\n",
       "      <td>0</td>\n",
       "      <td>0</td>\n",
       "      <td>0</td>\n",
       "      <td>...</td>\n",
       "      <td>1</td>\n",
       "      <td>0</td>\n",
       "      <td>0</td>\n",
       "      <td>0</td>\n",
       "      <td>0</td>\n",
       "      <td>0</td>\n",
       "      <td>0</td>\n",
       "      <td>1</td>\n",
       "      <td>1</td>\n",
       "      <td>0</td>\n",
       "    </tr>\n",
       "    <tr>\n",
       "      <th>1</th>\n",
       "      <td>44</td>\n",
       "      <td>29</td>\n",
       "      <td>5</td>\n",
       "      <td>1</td>\n",
       "      <td>-1</td>\n",
       "      <td>0</td>\n",
       "      <td>0</td>\n",
       "      <td>0</td>\n",
       "      <td>0</td>\n",
       "      <td>0</td>\n",
       "      <td>...</td>\n",
       "      <td>1</td>\n",
       "      <td>0</td>\n",
       "      <td>0</td>\n",
       "      <td>0</td>\n",
       "      <td>0</td>\n",
       "      <td>0</td>\n",
       "      <td>0</td>\n",
       "      <td>1</td>\n",
       "      <td>1</td>\n",
       "      <td>0</td>\n",
       "    </tr>\n",
       "    <tr>\n",
       "      <th>2</th>\n",
       "      <td>33</td>\n",
       "      <td>2</td>\n",
       "      <td>5</td>\n",
       "      <td>1</td>\n",
       "      <td>-1</td>\n",
       "      <td>0</td>\n",
       "      <td>0</td>\n",
       "      <td>0</td>\n",
       "      <td>1</td>\n",
       "      <td>0</td>\n",
       "      <td>...</td>\n",
       "      <td>1</td>\n",
       "      <td>0</td>\n",
       "      <td>0</td>\n",
       "      <td>0</td>\n",
       "      <td>0</td>\n",
       "      <td>0</td>\n",
       "      <td>0</td>\n",
       "      <td>1</td>\n",
       "      <td>1</td>\n",
       "      <td>0</td>\n",
       "    </tr>\n",
       "    <tr>\n",
       "      <th>3</th>\n",
       "      <td>47</td>\n",
       "      <td>1506</td>\n",
       "      <td>5</td>\n",
       "      <td>1</td>\n",
       "      <td>-1</td>\n",
       "      <td>0</td>\n",
       "      <td>0</td>\n",
       "      <td>1</td>\n",
       "      <td>0</td>\n",
       "      <td>0</td>\n",
       "      <td>...</td>\n",
       "      <td>1</td>\n",
       "      <td>0</td>\n",
       "      <td>0</td>\n",
       "      <td>0</td>\n",
       "      <td>0</td>\n",
       "      <td>0</td>\n",
       "      <td>0</td>\n",
       "      <td>1</td>\n",
       "      <td>1</td>\n",
       "      <td>0</td>\n",
       "    </tr>\n",
       "    <tr>\n",
       "      <th>4</th>\n",
       "      <td>33</td>\n",
       "      <td>1</td>\n",
       "      <td>5</td>\n",
       "      <td>1</td>\n",
       "      <td>-1</td>\n",
       "      <td>0</td>\n",
       "      <td>0</td>\n",
       "      <td>0</td>\n",
       "      <td>0</td>\n",
       "      <td>0</td>\n",
       "      <td>...</td>\n",
       "      <td>1</td>\n",
       "      <td>0</td>\n",
       "      <td>0</td>\n",
       "      <td>0</td>\n",
       "      <td>0</td>\n",
       "      <td>0</td>\n",
       "      <td>0</td>\n",
       "      <td>1</td>\n",
       "      <td>1</td>\n",
       "      <td>0</td>\n",
       "    </tr>\n",
       "  </tbody>\n",
       "</table>\n",
       "<p>5 rows × 52 columns</p>\n",
       "</div>"
      ],
      "text/plain": [
       "   age  balance  day  campaign  pdays  previous  job_admin.  job_blue-collar  \\\n",
       "0   58     2143    5         1     -1         0           0                0   \n",
       "1   44       29    5         1     -1         0           0                0   \n",
       "2   33        2    5         1     -1         0           0                0   \n",
       "3   47     1506    5         1     -1         0           0                1   \n",
       "4   33        1    5         1     -1         0           0                0   \n",
       "\n",
       "   job_entrepreneur  job_housemaid  ...  month_may  month_nov  month_oct  \\\n",
       "0                 0              0  ...          1          0          0   \n",
       "1                 0              0  ...          1          0          0   \n",
       "2                 1              0  ...          1          0          0   \n",
       "3                 0              0  ...          1          0          0   \n",
       "4                 0              0  ...          1          0          0   \n",
       "\n",
       "   month_sep  poutcome_failure  poutcome_other  poutcome_success  \\\n",
       "0          0                 0               0                 0   \n",
       "1          0                 0               0                 0   \n",
       "2          0                 0               0                 0   \n",
       "3          0                 0               0                 0   \n",
       "4          0                 0               0                 0   \n",
       "\n",
       "   poutcome_unknown  Target_no  Target_yes  \n",
       "0                 1          1           0  \n",
       "1                 1          1           0  \n",
       "2                 1          1           0  \n",
       "3                 1          1           0  \n",
       "4                 1          1           0  \n",
       "\n",
       "[5 rows x 52 columns]"
      ]
     },
     "execution_count": 79,
     "metadata": {},
     "output_type": "execute_result"
    }
   ],
   "source": [
    "data.head()"
   ]
  },
  {
   "cell_type": "code",
   "execution_count": 4,
   "metadata": {},
   "outputs": [
    {
     "data": {
      "text/plain": [
       "(45211, 17)"
      ]
     },
     "execution_count": 4,
     "metadata": {},
     "output_type": "execute_result"
    }
   ],
   "source": [
    "data.shape"
   ]
  },
  {
   "cell_type": "code",
   "execution_count": 5,
   "metadata": {},
   "outputs": [
    {
     "data": {
      "text/plain": [
       "age           int64\n",
       "job          object\n",
       "marital      object\n",
       "education    object\n",
       "default      object\n",
       "balance       int64\n",
       "housing      object\n",
       "loan         object\n",
       "contact      object\n",
       "day           int64\n",
       "month        object\n",
       "duration      int64\n",
       "campaign      int64\n",
       "pdays         int64\n",
       "previous      int64\n",
       "poutcome     object\n",
       "Target       object\n",
       "dtype: object"
      ]
     },
     "execution_count": 5,
     "metadata": {},
     "output_type": "execute_result"
    }
   ],
   "source": [
    "data.dtypes"
   ]
  },
  {
   "cell_type": "code",
   "execution_count": 6,
   "metadata": {},
   "outputs": [
    {
     "data": {
      "text/html": [
       "<div>\n",
       "<style scoped>\n",
       "    .dataframe tbody tr th:only-of-type {\n",
       "        vertical-align: middle;\n",
       "    }\n",
       "\n",
       "    .dataframe tbody tr th {\n",
       "        vertical-align: top;\n",
       "    }\n",
       "\n",
       "    .dataframe thead th {\n",
       "        text-align: right;\n",
       "    }\n",
       "</style>\n",
       "<table border=\"1\" class=\"dataframe\">\n",
       "  <thead>\n",
       "    <tr style=\"text-align: right;\">\n",
       "      <th></th>\n",
       "      <th>age</th>\n",
       "      <th>balance</th>\n",
       "      <th>day</th>\n",
       "      <th>duration</th>\n",
       "      <th>campaign</th>\n",
       "      <th>pdays</th>\n",
       "      <th>previous</th>\n",
       "    </tr>\n",
       "  </thead>\n",
       "  <tbody>\n",
       "    <tr>\n",
       "      <th>count</th>\n",
       "      <td>45211.000000</td>\n",
       "      <td>45211.000000</td>\n",
       "      <td>45211.000000</td>\n",
       "      <td>45211.000000</td>\n",
       "      <td>45211.000000</td>\n",
       "      <td>45211.000000</td>\n",
       "      <td>45211.000000</td>\n",
       "    </tr>\n",
       "    <tr>\n",
       "      <th>mean</th>\n",
       "      <td>40.936210</td>\n",
       "      <td>1362.272058</td>\n",
       "      <td>15.806419</td>\n",
       "      <td>258.163080</td>\n",
       "      <td>2.763841</td>\n",
       "      <td>40.197828</td>\n",
       "      <td>0.580323</td>\n",
       "    </tr>\n",
       "    <tr>\n",
       "      <th>std</th>\n",
       "      <td>10.618762</td>\n",
       "      <td>3044.765829</td>\n",
       "      <td>8.322476</td>\n",
       "      <td>257.527812</td>\n",
       "      <td>3.098021</td>\n",
       "      <td>100.128746</td>\n",
       "      <td>2.303441</td>\n",
       "    </tr>\n",
       "    <tr>\n",
       "      <th>min</th>\n",
       "      <td>18.000000</td>\n",
       "      <td>-8019.000000</td>\n",
       "      <td>1.000000</td>\n",
       "      <td>0.000000</td>\n",
       "      <td>1.000000</td>\n",
       "      <td>-1.000000</td>\n",
       "      <td>0.000000</td>\n",
       "    </tr>\n",
       "    <tr>\n",
       "      <th>25%</th>\n",
       "      <td>33.000000</td>\n",
       "      <td>72.000000</td>\n",
       "      <td>8.000000</td>\n",
       "      <td>103.000000</td>\n",
       "      <td>1.000000</td>\n",
       "      <td>-1.000000</td>\n",
       "      <td>0.000000</td>\n",
       "    </tr>\n",
       "    <tr>\n",
       "      <th>50%</th>\n",
       "      <td>39.000000</td>\n",
       "      <td>448.000000</td>\n",
       "      <td>16.000000</td>\n",
       "      <td>180.000000</td>\n",
       "      <td>2.000000</td>\n",
       "      <td>-1.000000</td>\n",
       "      <td>0.000000</td>\n",
       "    </tr>\n",
       "    <tr>\n",
       "      <th>75%</th>\n",
       "      <td>48.000000</td>\n",
       "      <td>1428.000000</td>\n",
       "      <td>21.000000</td>\n",
       "      <td>319.000000</td>\n",
       "      <td>3.000000</td>\n",
       "      <td>-1.000000</td>\n",
       "      <td>0.000000</td>\n",
       "    </tr>\n",
       "    <tr>\n",
       "      <th>max</th>\n",
       "      <td>95.000000</td>\n",
       "      <td>102127.000000</td>\n",
       "      <td>31.000000</td>\n",
       "      <td>4918.000000</td>\n",
       "      <td>63.000000</td>\n",
       "      <td>871.000000</td>\n",
       "      <td>275.000000</td>\n",
       "    </tr>\n",
       "  </tbody>\n",
       "</table>\n",
       "</div>"
      ],
      "text/plain": [
       "                age        balance           day      duration      campaign  \\\n",
       "count  45211.000000   45211.000000  45211.000000  45211.000000  45211.000000   \n",
       "mean      40.936210    1362.272058     15.806419    258.163080      2.763841   \n",
       "std       10.618762    3044.765829      8.322476    257.527812      3.098021   \n",
       "min       18.000000   -8019.000000      1.000000      0.000000      1.000000   \n",
       "25%       33.000000      72.000000      8.000000    103.000000      1.000000   \n",
       "50%       39.000000     448.000000     16.000000    180.000000      2.000000   \n",
       "75%       48.000000    1428.000000     21.000000    319.000000      3.000000   \n",
       "max       95.000000  102127.000000     31.000000   4918.000000     63.000000   \n",
       "\n",
       "              pdays      previous  \n",
       "count  45211.000000  45211.000000  \n",
       "mean      40.197828      0.580323  \n",
       "std      100.128746      2.303441  \n",
       "min       -1.000000      0.000000  \n",
       "25%       -1.000000      0.000000  \n",
       "50%       -1.000000      0.000000  \n",
       "75%       -1.000000      0.000000  \n",
       "max      871.000000    275.000000  "
      ]
     },
     "execution_count": 6,
     "metadata": {},
     "output_type": "execute_result"
    }
   ],
   "source": [
    "#Descriptive statistics\n",
    "data.describe()"
   ]
  },
  {
   "cell_type": "code",
   "execution_count": 7,
   "metadata": {},
   "outputs": [
    {
     "name": "stdout",
     "output_type": "stream",
     "text": [
      "continuous variables\n",
      "\n",
      "Index([u'age', u'balance', u'day', u'duration', u'campaign', u'pdays',\n",
      "       u'previous'],\n",
      "      dtype='object')\n"
     ]
    }
   ],
   "source": [
    "#print continuous variables\n",
    "print(\"continuous variables\\n\")\n",
    "data_cont=data.describe().columns\n",
    "print(data_cont)"
   ]
  },
  {
   "cell_type": "code",
   "execution_count": 8,
   "metadata": {},
   "outputs": [
    {
     "name": "stdout",
     "output_type": "stream",
     "text": [
      "categorical variables\n",
      "\n",
      "Index([u'job', u'marital', u'education', u'default', u'housing', u'loan',\n",
      "       u'contact', u'month', u'poutcome', u'Target'],\n",
      "      dtype='object')\n"
     ]
    }
   ],
   "source": [
    "#print categorical variables\n",
    "print(\"categorical variables\\n\")\n",
    "data_cat=data.describe(include=[object]).columns\n",
    "print(data_cat)"
   ]
  },
  {
   "cell_type": "code",
   "execution_count": 9,
   "metadata": {},
   "outputs": [
    {
     "data": {
      "image/png": "[encoded data removed]",
      "text/plain": [
       "<Figure size 1152x1152 with 9 Axes>"
      ]
     },
     "metadata": {
      "needs_background": "light"
     },
     "output_type": "display_data"
    }
   ],
   "source": [
    "#visualizing continuous variables\n",
    "data.hist(column=data_cont,figsize=(16,16))\n",
    "plt.show()"
   ]
  },
  {
   "cell_type": "code",
   "execution_count": 10,
   "metadata": {},
   "outputs": [
    {
     "data": {
      "image/png": "[encoded data removed]",
      "text/plain": [
       "<Figure size 432x288 with 1 Axes>"
      ]
     },
     "metadata": {
      "needs_background": "light"
     },
     "output_type": "display_data"
    }
   ],
   "source": [
    "sns.boxplot(data=data,x=\"Target\",y=\"age\")\n",
    "plt.show()"
   ]
  },
  {
   "cell_type": "markdown",
   "metadata": {},
   "source": [
    "The median age for both the groups(those subscribed and not) is around 37 to 40 and also there is overlapping for both the groups which indicates that age is not a good indicator to predict which customer will subscribe or not subscribe"
   ]
  },
  {
   "cell_type": "code",
   "execution_count": 11,
   "metadata": {},
   "outputs": [
    {
     "data": {
      "image/png": "[encoded data removed]",
      "text/plain": [
       "<Figure size 432x288 with 1 Axes>"
      ]
     },
     "metadata": {
      "needs_background": "light"
     },
     "output_type": "display_data"
    }
   ],
   "source": [
    "sns.boxplot(data=data,x=\"Target\",y=\"campaign\")\n",
    "plt.show()"
   ]
  },
  {
   "cell_type": "code",
   "execution_count": 12,
   "metadata": {},
   "outputs": [
    {
     "data": {
      "image/png": "[encoded data removed]",
      "text/plain": [
       "<Figure size 432x288 with 1 Axes>"
      ]
     },
     "metadata": {
      "needs_background": "light"
     },
     "output_type": "display_data"
    }
   ],
   "source": [
    "sns.boxplot(data=data,x=\"Target\",y=\"duration\")\n",
    "plt.show()"
   ]
  },
  {
   "cell_type": "markdown",
   "metadata": {},
   "source": [
    "From the plot its clear that duration can be useful for predicting the target variable"
   ]
  },
  {
   "cell_type": "code",
   "execution_count": 13,
   "metadata": {},
   "outputs": [
    {
     "data": {
      "image/png": "[encoded data removed]",
      "text/plain": [
       "<Figure size 432x288 with 1 Axes>"
      ]
     },
     "metadata": {
      "needs_background": "light"
     },
     "output_type": "display_data"
    }
   ],
   "source": [
    "sns.boxplot(data=data,x=\"Target\",y=\"pdays\")\n",
    "plt.show()"
   ]
  },
  {
   "cell_type": "code",
   "execution_count": 14,
   "metadata": {},
   "outputs": [
    {
     "data": {
      "text/plain": [
       "array([ -1, 151, 166,  91,  86, 143, 147,  89, 140, 176, 101, 174, 170,\n",
       "       167, 195, 165, 129, 188, 196, 172, 118, 119, 104, 171, 117, 164,\n",
       "       132, 131, 123, 159, 186, 111, 115, 116, 173, 178, 110, 152,  96,\n",
       "       103, 150, 175, 193, 181, 185, 154, 145, 138, 126, 180, 109, 158,\n",
       "       168,  97, 182, 127, 130, 194, 125, 105, 102,  26, 179,  28, 183,\n",
       "       155, 112, 120, 137, 124, 187, 190, 113, 162, 134, 169, 189,   8,\n",
       "       144, 191, 184, 177,   5,  99, 133,  93,  92,  10, 100, 156, 198,\n",
       "       106, 153, 146, 128,   7, 121, 160, 107,  90,  27, 197, 136, 139,\n",
       "       122, 157, 149, 135,  30, 114,  98, 192, 163,  34,  95, 141,  31,\n",
       "       199,  94, 108,  29, 268, 247, 253, 226, 244, 239, 245, 204, 231,\n",
       "       238, 258, 230, 254, 265,  71, 223, 246, 250, 266, 240, 205, 261,\n",
       "       259, 241, 260, 234, 251, 225, 161, 237, 262, 248, 255, 220, 227,\n",
       "       206, 224, 249, 235, 228, 263,   2, 270, 232, 252, 207, 200, 269,\n",
       "       233, 256, 273, 272, 242, 264, 208, 214, 222, 271, 203, 221, 202,\n",
       "       216, 201, 257, 229, 210, 217,  75, 213,  73,  76, 267, 211, 215,\n",
       "        77, 236,  82,   6, 209, 274,   1, 243, 212, 275,  80, 276,   9,\n",
       "       279,  12, 280,  88, 277,  85,  84, 219,  24,  21, 282,  41, 294,\n",
       "        49, 329, 307, 303, 331, 308, 300,  64, 314, 287, 330, 332, 302,\n",
       "       323, 318, 333,  60, 326, 335, 313, 312, 305, 325, 327, 336, 309,\n",
       "       328, 322,  39, 316, 292, 295, 310, 306, 320, 317, 289,  57, 321,\n",
       "       142, 339, 301, 315, 337, 334, 340, 319,  17,  74, 148, 341, 299,\n",
       "       344, 342, 324, 345, 346, 304, 281, 343, 338,  14, 347,  15, 291,\n",
       "       348, 349, 285, 350, 284,  25, 283, 278,  81,   4,  87,  83,  79,\n",
       "        70,  13, 293,  37,  78,  63,  22, 296, 355,  66,  19,  35, 360,\n",
       "       357, 354, 351, 362, 358, 365, 298, 286, 364, 363,  47, 361, 288,\n",
       "       366, 356, 352, 359, 297, 367, 353, 368,  42, 290,  67, 371, 370,\n",
       "       369,  50,  36, 373, 374, 372, 311, 375, 378,  59, 379,  40,  18,\n",
       "        43,  20,  69,  38, 385,  56,  55,  44, 391,  72, 390,  32,  62,\n",
       "       399, 393,  65, 377, 395, 388, 389, 386,  61, 412, 405, 434, 394,\n",
       "       382, 459, 440, 397, 383,  68, 461, 462, 463, 422,  51, 457, 430,\n",
       "       442, 403, 454, 428, 392, 410, 401, 474, 475, 477, 478,  54, 476,\n",
       "       380, 479,  45,  46, 495,  58,  48, 518,  52, 515, 520, 511, 536,\n",
       "       387, 218,  33, 544, 435, 436, 555, 433, 446, 558, 469, 616, 561,\n",
       "       553, 384, 592, 467, 585, 480, 421, 667, 626, 426, 595, 381, 376,\n",
       "       648, 521, 452, 449, 633, 398,  53, 460, 670, 551, 414, 557, 687,\n",
       "       404, 651, 686, 425, 504, 578, 674, 416, 586, 411, 756, 450, 745,\n",
       "       514, 417, 424, 776, 396, 683, 529, 439, 415, 456, 407, 458, 532,\n",
       "       481, 791, 701, 531, 792, 413, 445, 535, 784, 419, 455, 491, 431,\n",
       "       542, 470, 472, 717, 437,   3, 782, 728, 828, 524, 562, 761, 492,\n",
       "       775, 579, 493, 464, 760, 466, 465, 656, 831, 490, 432, 655, 427,\n",
       "       749, 838, 769, 587, 778, 854, 779, 850, 771, 594, 842, 589, 603,\n",
       "       484, 489, 486, 409, 444, 680, 808, 485, 503, 690, 772, 774, 526,\n",
       "       420, 528, 500, 826, 804, 508, 547, 805, 541, 543, 871, 550, 530],\n",
       "      dtype=int64)"
      ]
     },
     "execution_count": 14,
     "metadata": {},
     "output_type": "execute_result"
    }
   ],
   "source": [
    "data[\"pdays\"].unique()"
   ]
  },
  {
   "cell_type": "code",
   "execution_count": 15,
   "metadata": {},
   "outputs": [
    {
     "data": {
      "text/plain": [
       "-1      36954\n",
       " 182      167\n",
       " 92       147\n",
       " 183      126\n",
       " 91       126\n",
       " 181      117\n",
       " 370       99\n",
       " 184       85\n",
       " 364       77\n",
       " 95        74\n",
       " 350       73\n",
       " 94        72\n",
       " 175       71\n",
       " 185       68\n",
       " 93        65\n",
       " 343       65\n",
       " 188       64\n",
       " 189       60\n",
       " 186       60\n",
       " 174       57\n",
       " 96        57\n",
       " 349       57\n",
       " 363       55\n",
       " 97        54\n",
       " 90        54\n",
       " 196       51\n",
       " 365       51\n",
       " 368       49\n",
       " 342       49\n",
       " 98        49\n",
       "        ...  \n",
       " 774        1\n",
       " 550        1\n",
       " 396        1\n",
       " 492        1\n",
       " 466        1\n",
       " 45         1\n",
       " 434        1\n",
       " 18         1\n",
       " 529        1\n",
       " 465        1\n",
       " 401        1\n",
       " 784        1\n",
       " 656        1\n",
       " 592        1\n",
       " 528        1\n",
       " 464        1\n",
       " 432        1\n",
       " 655        1\n",
       " 495        1\n",
       " 543        1\n",
       " 47         1\n",
       " 782        1\n",
       " 686        1\n",
       " 558        1\n",
       " 526        1\n",
       " 749        1\n",
       " 717        1\n",
       " 589        1\n",
       " 493        1\n",
       " 32         1\n",
       "Name: pdays, Length: 559, dtype: int64"
      ]
     },
     "execution_count": 15,
     "metadata": {},
     "output_type": "execute_result"
    }
   ],
   "source": [
    "data[\"pdays\"].value_counts()"
   ]
  },
  {
   "cell_type": "code",
   "execution_count": 16,
   "metadata": {},
   "outputs": [
    {
     "data": {
      "image/png": "[encoded data removed]",
      "text/plain": [
       "<Figure size 432x288 with 1 Axes>"
      ]
     },
     "metadata": {
      "needs_background": "light"
     },
     "output_type": "display_data"
    }
   ],
   "source": [
    "sns.boxplot(data=data,x=\"Target\",y=\"previous\")\n",
    "plt.show()"
   ]
  },
  {
   "cell_type": "code",
   "execution_count": 17,
   "metadata": {},
   "outputs": [
    {
     "data": {
      "text/plain": [
       "array([  0,   3,   1,   4,   2,  11,  16,   6,   5,  10,  12,   7,  18,\n",
       "         9,  21,   8,  14,  15,  26,  37,  13,  25,  20,  27,  17,  23,\n",
       "        38,  29,  24,  51, 275,  22,  19,  30,  58,  28,  32,  40,  55,\n",
       "        35,  41], dtype=int64)"
      ]
     },
     "execution_count": 17,
     "metadata": {},
     "output_type": "execute_result"
    }
   ],
   "source": [
    "data[\"previous\"].unique()"
   ]
  },
  {
   "cell_type": "code",
   "execution_count": 18,
   "metadata": {},
   "outputs": [
    {
     "data": {
      "text/plain": [
       "0      36954\n",
       "1       2772\n",
       "2       2106\n",
       "3       1142\n",
       "4        714\n",
       "5        459\n",
       "6        277\n",
       "7        205\n",
       "8        129\n",
       "9         92\n",
       "10        67\n",
       "11        65\n",
       "12        44\n",
       "13        38\n",
       "15        20\n",
       "14        19\n",
       "17        15\n",
       "16        13\n",
       "19        11\n",
       "23         8\n",
       "20         8\n",
       "22         6\n",
       "18         6\n",
       "24         5\n",
       "27         5\n",
       "29         4\n",
       "25         4\n",
       "21         4\n",
       "30         3\n",
       "28         2\n",
       "26         2\n",
       "37         2\n",
       "38         2\n",
       "55         1\n",
       "40         1\n",
       "35         1\n",
       "58         1\n",
       "51         1\n",
       "41         1\n",
       "32         1\n",
       "275        1\n",
       "Name: previous, dtype: int64"
      ]
     },
     "execution_count": 18,
     "metadata": {},
     "output_type": "execute_result"
    }
   ],
   "source": [
    "data[\"previous\"].value_counts()"
   ]
  },
  {
   "cell_type": "code",
   "execution_count": 19,
   "metadata": {},
   "outputs": [
    {
     "data": {
      "image/png": "[encoded data removed]",
      "text/plain": [
       "<Figure size 432x288 with 1 Axes>"
      ]
     },
     "metadata": {
      "needs_background": "light"
     },
     "output_type": "display_data"
    }
   ],
   "source": [
    "sns.boxplot(data=data,x=\"Target\",y=\"day\")\n",
    "plt.show()"
   ]
  },
  {
   "cell_type": "code",
   "execution_count": 20,
   "metadata": {},
   "outputs": [
    {
     "data": {
      "image/png": "[encoded data removed]",
      "text/plain": [
       "<Figure size 1800x720 with 2 Axes>"
      ]
     },
     "metadata": {
      "needs_background": "light"
     },
     "output_type": "display_data"
    }
   ],
   "source": [
    "correlation=data.corr(method=\"pearson\")\n",
    "plt.figure(figsize=(25,10))\n",
    "sns.heatmap(correlation,vmax=1,square=True,annot=True)\n",
    "plt.show()"
   ]
  },
  {
   "cell_type": "markdown",
   "metadata": {},
   "source": [
    "Slight correlation between previous and pdays"
   ]
  },
  {
   "cell_type": "code",
   "execution_count": 21,
   "metadata": {},
   "outputs": [
    {
     "data": {
      "image/png": "[encoded data removed]",
      "text/plain": [
       "<Figure size 432x288 with 1 Axes>"
      ]
     },
     "metadata": {
      "needs_background": "light"
     },
     "output_type": "display_data"
    }
   ],
   "source": [
    "#visualizing categorical variables\n",
    "ax = sns.countplot(x=\"job\",data=data)\n",
    "\n",
    "ax.set_xticklabels(ax.get_xticklabels(), rotation=40, ha=\"right\")\n",
    "plt.tight_layout()\n",
    "plt.show()\n"
   ]
  },
  {
   "cell_type": "markdown",
   "metadata": {},
   "source": [
    "Most of the customers have job \"management\",\"Blue-collar\",\"Technician\""
   ]
  },
  {
   "cell_type": "code",
   "execution_count": 22,
   "metadata": {},
   "outputs": [
    {
     "data": {
      "image/png": "[encoded data removed]",
      "text/plain": [
       "<Figure size 432x288 with 1 Axes>"
      ]
     },
     "metadata": {
      "needs_background": "light"
     },
     "output_type": "display_data"
    }
   ],
   "source": [
    "ax = sns.countplot(x=\"job\",data=data,hue=\"Target\")\n",
    "\n",
    "ax.set_xticklabels(ax.get_xticklabels(), rotation=40, ha=\"right\")\n",
    "plt.tight_layout()\n",
    "plt.show()\n",
    "\n"
   ]
  },
  {
   "cell_type": "markdown",
   "metadata": {},
   "source": [
    "from the above plot customers from management has the highest rate of subscribing the loan"
   ]
  },
  {
   "cell_type": "code",
   "execution_count": 23,
   "metadata": {},
   "outputs": [
    {
     "data": {
      "image/png": "[encoded data removed]",
      "text/plain": [
       "<Figure size 432x288 with 1 Axes>"
      ]
     },
     "metadata": {
      "needs_background": "light"
     },
     "output_type": "display_data"
    }
   ],
   "source": [
    "ax = sns.countplot(x=\"marital\",data=data)\n",
    "\n",
    "ax.set_xticklabels(ax.get_xticklabels(), rotation=40, ha=\"right\")\n",
    "plt.tight_layout()\n",
    "plt.show()"
   ]
  },
  {
   "cell_type": "code",
   "execution_count": 24,
   "metadata": {},
   "outputs": [
    {
     "data": {
      "image/png": "[encoded data removed]",
      "text/plain": [
       "<Figure size 432x288 with 1 Axes>"
      ]
     },
     "metadata": {
      "needs_background": "light"
     },
     "output_type": "display_data"
    }
   ],
   "source": [
    "ax = sns.countplot(x=\"marital\",data=data,hue=\"Target\")\n",
    "\n",
    "ax.set_xticklabels(ax.get_xticklabels(), rotation=40, ha=\"right\")\n",
    "plt.tight_layout()\n",
    "plt.show()"
   ]
  },
  {
   "cell_type": "code",
   "execution_count": 25,
   "metadata": {},
   "outputs": [
    {
     "data": {
      "image/png": "[encoded data removed]",
      "text/plain": [
       "<Figure size 432x288 with 1 Axes>"
      ]
     },
     "metadata": {
      "needs_background": "light"
     },
     "output_type": "display_data"
    }
   ],
   "source": [
    "ax = sns.countplot(x=\"education\",data=data)\n",
    "\n",
    "ax.set_xticklabels(ax.get_xticklabels(), rotation=40, ha=\"right\")\n",
    "plt.tight_layout()\n",
    "plt.show()"
   ]
  },
  {
   "cell_type": "code",
   "execution_count": 26,
   "metadata": {},
   "outputs": [
    {
     "data": {
      "image/png": "[encoded data removed]",
      "text/plain": [
       "<Figure size 432x288 with 1 Axes>"
      ]
     },
     "metadata": {
      "needs_background": "light"
     },
     "output_type": "display_data"
    }
   ],
   "source": [
    "ax = sns.countplot(x=\"education\",data=data,hue=\"Target\")\n",
    "\n",
    "ax.set_xticklabels(ax.get_xticklabels(), rotation=40, ha=\"right\")\n",
    "plt.tight_layout()\n",
    "plt.show()"
   ]
  },
  {
   "cell_type": "code",
   "execution_count": 27,
   "metadata": {},
   "outputs": [
    {
     "data": {
      "image/png": "[encoded data removed]",
      "text/plain": [
       "<Figure size 432x288 with 1 Axes>"
      ]
     },
     "metadata": {
      "needs_background": "light"
     },
     "output_type": "display_data"
    }
   ],
   "source": [
    "ax = sns.countplot(x=\"default\",data=data)\n",
    "\n",
    "ax.set_xticklabels(ax.get_xticklabels(), rotation=40, ha=\"right\")\n",
    "plt.tight_layout()\n",
    "plt.show()"
   ]
  },
  {
   "cell_type": "code",
   "execution_count": 28,
   "metadata": {},
   "outputs": [
    {
     "data": {
      "image/png": "[encoded data removed]",
      "text/plain": [
       "<Figure size 432x288 with 1 Axes>"
      ]
     },
     "metadata": {
      "needs_background": "light"
     },
     "output_type": "display_data"
    }
   ],
   "source": [
    "ax = sns.countplot(x=\"default\",data=data,hue=\"Target\")\n",
    "\n",
    "ax.set_xticklabels(ax.get_xticklabels(), rotation=40, ha=\"right\")\n",
    "plt.tight_layout()\n",
    "plt.show()"
   ]
  },
  {
   "cell_type": "code",
   "execution_count": 29,
   "metadata": {},
   "outputs": [
    {
     "data": {
      "image/png": "[encoded data removed]",
      "text/plain": [
       "<Figure size 432x288 with 1 Axes>"
      ]
     },
     "metadata": {
      "needs_background": "light"
     },
     "output_type": "display_data"
    }
   ],
   "source": [
    "ax = sns.countplot(x=\"housing\",data=data)\n",
    "\n",
    "ax.set_xticklabels(ax.get_xticklabels(), rotation=40, ha=\"right\")\n",
    "plt.tight_layout()\n",
    "plt.show()"
   ]
  },
  {
   "cell_type": "code",
   "execution_count": 30,
   "metadata": {},
   "outputs": [
    {
     "data": {
      "image/png": "[encoded data removed]",
      "text/plain": [
       "<Figure size 432x288 with 1 Axes>"
      ]
     },
     "metadata": {
      "needs_background": "light"
     },
     "output_type": "display_data"
    }
   ],
   "source": [
    "ax = sns.countplot(x=\"housing\",data=data,hue=\"Target\")\n",
    "\n",
    "ax.set_xticklabels(ax.get_xticklabels(), rotation=40, ha=\"right\")\n",
    "plt.tight_layout()\n",
    "plt.show()"
   ]
  },
  {
   "cell_type": "code",
   "execution_count": 31,
   "metadata": {},
   "outputs": [
    {
     "data": {
      "image/png": "[encoded data removed]",
      "text/plain": [
       "<Figure size 432x288 with 1 Axes>"
      ]
     },
     "metadata": {
      "needs_background": "light"
     },
     "output_type": "display_data"
    }
   ],
   "source": [
    "ax = sns.countplot(x=\"loan\",data=data)\n",
    "\n",
    "ax.set_xticklabels(ax.get_xticklabels(), rotation=40, ha=\"right\")\n",
    "plt.tight_layout()\n",
    "plt.show()"
   ]
  },
  {
   "cell_type": "code",
   "execution_count": 32,
   "metadata": {},
   "outputs": [
    {
     "data": {
      "image/png": "[encoded data removed]",
      "text/plain": [
       "<Figure size 432x288 with 1 Axes>"
      ]
     },
     "metadata": {
      "needs_background": "light"
     },
     "output_type": "display_data"
    }
   ],
   "source": [
    "ax = sns.countplot(x=\"loan\",data=data,hue=\"Target\")\n",
    "\n",
    "ax.set_xticklabels(ax.get_xticklabels(), rotation=40, ha=\"right\")\n",
    "plt.tight_layout()\n",
    "plt.show()"
   ]
  },
  {
   "cell_type": "code",
   "execution_count": 33,
   "metadata": {},
   "outputs": [
    {
     "data": {
      "image/png": "[encoded data removed]",
      "text/plain": [
       "<Figure size 432x288 with 1 Axes>"
      ]
     },
     "metadata": {
      "needs_background": "light"
     },
     "output_type": "display_data"
    }
   ],
   "source": [
    "ax = sns.countplot(x=\"contact\",data=data)\n",
    "\n",
    "ax.set_xticklabels(ax.get_xticklabels(), rotation=40, ha=\"right\")\n",
    "plt.tight_layout()\n",
    "plt.show()"
   ]
  },
  {
   "cell_type": "code",
   "execution_count": 34,
   "metadata": {},
   "outputs": [
    {
     "data": {
      "image/png": "[encoded data removed]",
      "text/plain": [
       "<Figure size 432x288 with 1 Axes>"
      ]
     },
     "metadata": {
      "needs_background": "light"
     },
     "output_type": "display_data"
    }
   ],
   "source": [
    "ax = sns.countplot(x=\"contact\",data=data,hue=\"Target\")\n",
    "\n",
    "ax.set_xticklabels(ax.get_xticklabels(), rotation=40, ha=\"right\")\n",
    "plt.tight_layout()\n",
    "plt.show()"
   ]
  },
  {
   "cell_type": "code",
   "execution_count": 35,
   "metadata": {},
   "outputs": [
    {
     "data": {
      "image/png": "[encoded data removed]",
      "text/plain": [
       "<Figure size 432x288 with 1 Axes>"
      ]
     },
     "metadata": {
      "needs_background": "light"
     },
     "output_type": "display_data"
    }
   ],
   "source": [
    "ax = sns.countplot(x=\"month\",data=data)\n",
    "\n",
    "ax.set_xticklabels(ax.get_xticklabels(), rotation=40, ha=\"right\")\n",
    "plt.tight_layout()\n",
    "plt.show()"
   ]
  },
  {
   "cell_type": "code",
   "execution_count": 36,
   "metadata": {},
   "outputs": [
    {
     "data": {
      "image/png": "[encoded data removed]",
      "text/plain": [
       "<Figure size 432x288 with 1 Axes>"
      ]
     },
     "metadata": {
      "needs_background": "light"
     },
     "output_type": "display_data"
    }
   ],
   "source": [
    "ax = sns.countplot(x=\"month\",data=data,hue=\"Target\")\n",
    "\n",
    "ax.set_xticklabels(ax.get_xticklabels(), rotation=40, ha=\"right\")\n",
    "plt.tight_layout()\n",
    "plt.show()"
   ]
  },
  {
   "cell_type": "code",
   "execution_count": 37,
   "metadata": {},
   "outputs": [
    {
     "data": {
      "image/png": "[encoded data removed]",
      "text/plain": [
       "<Figure size 432x288 with 1 Axes>"
      ]
     },
     "metadata": {
      "needs_background": "light"
     },
     "output_type": "display_data"
    }
   ],
   "source": [
    "ax = sns.countplot(x=\"poutcome\",data=data)\n",
    "\n",
    "ax.set_xticklabels(ax.get_xticklabels(), rotation=40, ha=\"right\")\n",
    "plt.tight_layout()\n",
    "plt.show()"
   ]
  },
  {
   "cell_type": "code",
   "execution_count": 38,
   "metadata": {},
   "outputs": [
    {
     "data": {
      "image/png": "[encoded data removed]",
      "text/plain": [
       "<Figure size 432x288 with 1 Axes>"
      ]
     },
     "metadata": {
      "needs_background": "light"
     },
     "output_type": "display_data"
    }
   ],
   "source": [
    "ax = sns.countplot(x=\"poutcome\",data=data,hue=\"Target\")\n",
    "\n",
    "ax.set_xticklabels(ax.get_xticklabels(), rotation=40, ha=\"right\")\n",
    "plt.tight_layout()\n",
    "plt.show()"
   ]
  },
  {
   "cell_type": "markdown",
   "metadata": {},
   "source": [
    "Data Preprocessing"
   ]
  },
  {
   "cell_type": "code",
   "execution_count": 39,
   "metadata": {},
   "outputs": [
    {
     "name": "stdout",
     "output_type": "stream",
     "text": [
      "<class 'pandas.core.frame.DataFrame'>\n",
      "RangeIndex: 45211 entries, 0 to 45210\n",
      "Data columns (total 17 columns):\n",
      "age          45211 non-null int64\n",
      "job          45211 non-null object\n",
      "marital      45211 non-null object\n",
      "education    45211 non-null object\n",
      "default      45211 non-null object\n",
      "balance      45211 non-null int64\n",
      "housing      45211 non-null object\n",
      "loan         45211 non-null object\n",
      "contact      45211 non-null object\n",
      "day          45211 non-null int64\n",
      "month        45211 non-null object\n",
      "duration     45211 non-null int64\n",
      "campaign     45211 non-null int64\n",
      "pdays        45211 non-null int64\n",
      "previous     45211 non-null int64\n",
      "poutcome     45211 non-null object\n",
      "Target       45211 non-null object\n",
      "dtypes: int64(7), object(10)\n",
      "memory usage: 5.9+ MB\n"
     ]
    }
   ],
   "source": [
    "data.info()"
   ]
  },
  {
   "cell_type": "code",
   "execution_count": 40,
   "metadata": {},
   "outputs": [
    {
     "data": {
      "text/plain": [
       "False"
      ]
     },
     "execution_count": 40,
     "metadata": {},
     "output_type": "execute_result"
    }
   ],
   "source": [
    "data.isnull().values.any()"
   ]
  },
  {
   "cell_type": "markdown",
   "metadata": {},
   "source": [
    "indicates that there are no missing values in data set"
   ]
  },
  {
   "cell_type": "markdown",
   "metadata": {},
   "source": [
    "One hot encoding"
   ]
  },
  {
   "cell_type": "code",
   "execution_count": 41,
   "metadata": {},
   "outputs": [],
   "source": [
    "col=data.select_dtypes(include=[object]).columns"
   ]
  },
  {
   "cell_type": "code",
   "execution_count": 42,
   "metadata": {},
   "outputs": [],
   "source": [
    "data=pd.concat([data,pd.get_dummies(data[col])],axis=1)"
   ]
  },
  {
   "cell_type": "code",
   "execution_count": 43,
   "metadata": {},
   "outputs": [],
   "source": [
    "data=data.drop(['job', 'marital', 'education', 'default', 'housing', 'loan',\n",
    "       'contact', 'month','poutcome', 'Target','duration'], axis =1)"
   ]
  },
  {
   "cell_type": "code",
   "execution_count": 44,
   "metadata": {},
   "outputs": [
    {
     "name": "stdout",
     "output_type": "stream",
     "text": [
      "<class 'pandas.core.frame.DataFrame'>\n",
      "RangeIndex: 45211 entries, 0 to 45210\n",
      "Data columns (total 52 columns):\n",
      "age                    45211 non-null int64\n",
      "balance                45211 non-null int64\n",
      "day                    45211 non-null int64\n",
      "campaign               45211 non-null int64\n",
      "pdays                  45211 non-null int64\n",
      "previous               45211 non-null int64\n",
      "job_admin.             45211 non-null uint8\n",
      "job_blue-collar        45211 non-null uint8\n",
      "job_entrepreneur       45211 non-null uint8\n",
      "job_housemaid          45211 non-null uint8\n",
      "job_management         45211 non-null uint8\n",
      "job_retired            45211 non-null uint8\n",
      "job_self-employed      45211 non-null uint8\n",
      "job_services           45211 non-null uint8\n",
      "job_student            45211 non-null uint8\n",
      "job_technician         45211 non-null uint8\n",
      "job_unemployed         45211 non-null uint8\n",
      "job_unknown            45211 non-null uint8\n",
      "marital_divorced       45211 non-null uint8\n",
      "marital_married        45211 non-null uint8\n",
      "marital_single         45211 non-null uint8\n",
      "education_primary      45211 non-null uint8\n",
      "education_secondary    45211 non-null uint8\n",
      "education_tertiary     45211 non-null uint8\n",
      "education_unknown      45211 non-null uint8\n",
      "default_no             45211 non-null uint8\n",
      "default_yes            45211 non-null uint8\n",
      "housing_no             45211 non-null uint8\n",
      "housing_yes            45211 non-null uint8\n",
      "loan_no                45211 non-null uint8\n",
      "loan_yes               45211 non-null uint8\n",
      "contact_cellular       45211 non-null uint8\n",
      "contact_telephone      45211 non-null uint8\n",
      "contact_unknown        45211 non-null uint8\n",
      "month_apr              45211 non-null uint8\n",
      "month_aug              45211 non-null uint8\n",
      "month_dec              45211 non-null uint8\n",
      "month_feb              45211 non-null uint8\n",
      "month_jan              45211 non-null uint8\n",
      "month_jul              45211 non-null uint8\n",
      "month_jun              45211 non-null uint8\n",
      "month_mar              45211 non-null uint8\n",
      "month_may              45211 non-null uint8\n",
      "month_nov              45211 non-null uint8\n",
      "month_oct              45211 non-null uint8\n",
      "month_sep              45211 non-null uint8\n",
      "poutcome_failure       45211 non-null uint8\n",
      "poutcome_other         45211 non-null uint8\n",
      "poutcome_success       45211 non-null uint8\n",
      "poutcome_unknown       45211 non-null uint8\n",
      "Target_no              45211 non-null uint8\n",
      "Target_yes             45211 non-null uint8\n",
      "dtypes: int64(6), uint8(46)\n",
      "memory usage: 4.1 MB\n"
     ]
    }
   ],
   "source": [
    "data.info()"
   ]
  },
  {
   "cell_type": "code",
   "execution_count": 45,
   "metadata": {},
   "outputs": [
    {
     "name": "stderr",
     "output_type": "stream",
     "text": [
      "C:\\Users\\asus\\Anaconda2\\lib\\site-packages\\sklearn\\preprocessing\\data.py:334: DataConversionWarning: Data with input dtype uint8, int64 were all converted to float64 by MinMaxScaler.\n",
      "  return self.partial_fit(X, y)\n"
     ]
    }
   ],
   "source": [
    "#Normalization\n",
    "from sklearn import preprocessing\n",
    "min_max_scaler=preprocessing.MinMaxScaler()\n",
    "data_scaled=pd.DataFrame(min_max_scaler.fit_transform(data),columns=data.columns)"
   ]
  },
  {
   "cell_type": "code",
   "execution_count": 46,
   "metadata": {},
   "outputs": [],
   "source": [
    "y = data_scaled.Target_yes\n",
    "data_scaled = data_scaled.drop(['Target_yes','Target_no'], axis = 1)"
   ]
  },
  {
   "cell_type": "code",
   "execution_count": 47,
   "metadata": {},
   "outputs": [],
   "source": [
    "#Test - Train Data Split\n",
    "from sklearn.model_selection import train_test_split\n",
    "X_train, X_test, y_train, y_test = train_test_split(data_scaled, y, test_size=0.3, random_state=42)"
   ]
  },
  {
   "cell_type": "code",
   "execution_count": 48,
   "metadata": {},
   "outputs": [
    {
     "name": "stdout",
     "output_type": "stream",
     "text": [
      "<class 'pandas.core.frame.DataFrame'>\n",
      "Int64Index: 31647 entries, 10747 to 15795\n",
      "Data columns (total 50 columns):\n",
      "age                    31647 non-null float64\n",
      "balance                31647 non-null float64\n",
      "day                    31647 non-null float64\n",
      "campaign               31647 non-null float64\n",
      "pdays                  31647 non-null float64\n",
      "previous               31647 non-null float64\n",
      "job_admin.             31647 non-null float64\n",
      "job_blue-collar        31647 non-null float64\n",
      "job_entrepreneur       31647 non-null float64\n",
      "job_housemaid          31647 non-null float64\n",
      "job_management         31647 non-null float64\n",
      "job_retired            31647 non-null float64\n",
      "job_self-employed      31647 non-null float64\n",
      "job_services           31647 non-null float64\n",
      "job_student            31647 non-null float64\n",
      "job_technician         31647 non-null float64\n",
      "job_unemployed         31647 non-null float64\n",
      "job_unknown            31647 non-null float64\n",
      "marital_divorced       31647 non-null float64\n",
      "marital_married        31647 non-null float64\n",
      "marital_single         31647 non-null float64\n",
      "education_primary      31647 non-null float64\n",
      "education_secondary    31647 non-null float64\n",
      "education_tertiary     31647 non-null float64\n",
      "education_unknown      31647 non-null float64\n",
      "default_no             31647 non-null float64\n",
      "default_yes            31647 non-null float64\n",
      "housing_no             31647 non-null float64\n",
      "housing_yes            31647 non-null float64\n",
      "loan_no                31647 non-null float64\n",
      "loan_yes               31647 non-null float64\n",
      "contact_cellular       31647 non-null float64\n",
      "contact_telephone      31647 non-null float64\n",
      "contact_unknown        31647 non-null float64\n",
      "month_apr              31647 non-null float64\n",
      "month_aug              31647 non-null float64\n",
      "month_dec              31647 non-null float64\n",
      "month_feb              31647 non-null float64\n",
      "month_jan              31647 non-null float64\n",
      "month_jul              31647 non-null float64\n",
      "month_jun              31647 non-null float64\n",
      "month_mar              31647 non-null float64\n",
      "month_may              31647 non-null float64\n",
      "month_nov              31647 non-null float64\n",
      "month_oct              31647 non-null float64\n",
      "month_sep              31647 non-null float64\n",
      "poutcome_failure       31647 non-null float64\n",
      "poutcome_other         31647 non-null float64\n",
      "poutcome_success       31647 non-null float64\n",
      "poutcome_unknown       31647 non-null float64\n",
      "dtypes: float64(50)\n",
      "memory usage: 12.3 MB\n"
     ]
    }
   ],
   "source": [
    "X_train.info()"
   ]
  },
  {
   "cell_type": "markdown",
   "metadata": {},
   "source": [
    "LOGISTIC REGRESSION"
   ]
  },
  {
   "cell_type": "code",
   "execution_count": 55,
   "metadata": {},
   "outputs": [],
   "source": [
    "from sklearn.linear_model import LogisticRegression\n",
    "#Build the logistic regression model\n",
    "lg= LogisticRegression()\n"
   ]
  },
  {
   "cell_type": "code",
   "execution_count": 56,
   "metadata": {},
   "outputs": [
    {
     "data": {
      "text/plain": [
       "LogisticRegression(C=1.0, class_weight=None, dual=False, fit_intercept=True,\n",
       "          intercept_scaling=1, max_iter=100, multi_class='warn',\n",
       "          n_jobs=None, penalty='l2', random_state=None, solver='warn',\n",
       "          tol=0.0001, verbose=0, warm_start=False)"
      ]
     },
     "execution_count": 56,
     "metadata": {},
     "output_type": "execute_result"
    }
   ],
   "source": [
    "lg.fit(X_train, y_train)"
   ]
  },
  {
   "cell_type": "code",
   "execution_count": 57,
   "metadata": {},
   "outputs": [
    {
     "name": "stdout",
     "output_type": "stream",
     "text": [
      "0.8925833087584784\n"
     ]
    }
   ],
   "source": [
    "# Use score method to get accuracy of model\n",
    "score = lg.score(X_test, y_test)\n",
    "print(score)"
   ]
  },
  {
   "cell_type": "code",
   "execution_count": 58,
   "metadata": {},
   "outputs": [
    {
     "name": "stdout",
     "output_type": "stream",
     "text": [
      "Accuracy of logistic regression classifier on test set: 0.89\n"
     ]
    }
   ],
   "source": [
    "y_pred = lg.predict(X_test)\n",
    "print('Accuracy of logistic regression classifier on test set: {:.2f}'.format(lg.score(X_test, y_test)))"
   ]
  },
  {
   "cell_type": "code",
   "execution_count": 59,
   "metadata": {},
   "outputs": [
    {
     "name": "stderr",
     "output_type": "stream",
     "text": [
      "C:\\Users\\asus\\Anaconda2\\lib\\site-packages\\numpy\\core\\fromnumeric.py:2389: FutureWarning: Method .ptp is deprecated and will be removed in a future version. Use numpy.ptp instead.\n",
      "  return ptp(axis=axis, out=out, **kwargs)\n"
     ]
    },
    {
     "name": "stdout",
     "output_type": "stream",
     "text": [
      "Optimization terminated successfully.\n",
      "         Current function value: 0.299341\n",
      "         Iterations 9\n"
     ]
    },
    {
     "name": "stderr",
     "output_type": "stream",
     "text": [
      "C:\\Users\\asus\\Anaconda2\\lib\\site-packages\\statsmodels\\base\\model.py:1092: RuntimeWarning: invalid value encountered in sqrt\n",
      "  bse_ = np.sqrt(np.diag(self.cov_params()))\n",
      "C:\\Users\\asus\\Anaconda2\\lib\\site-packages\\scipy\\stats\\_distn_infrastructure.py:877: RuntimeWarning: invalid value encountered in greater\n",
      "  return (self.a < x) & (x < self.b)\n",
      "C:\\Users\\asus\\Anaconda2\\lib\\site-packages\\scipy\\stats\\_distn_infrastructure.py:877: RuntimeWarning: invalid value encountered in less\n",
      "  return (self.a < x) & (x < self.b)\n",
      "C:\\Users\\asus\\Anaconda2\\lib\\site-packages\\scipy\\stats\\_distn_infrastructure.py:1831: RuntimeWarning: invalid value encountered in less_equal\n",
      "  cond2 = cond0 & (x <= self.a)\n"
     ]
    },
    {
     "data": {
      "text/html": [
       "<table class=\"simpletable\">\n",
       "<tr>\n",
       "        <td>Model:</td>              <td>Logit</td>      <td>Pseudo R-squared:</td>    <td>0.169</td>  \n",
       "</tr>\n",
       "<tr>\n",
       "  <td>Dependent Variable:</td>    <td>Target_yes</td>          <td>AIC:</td>        <td>19030.5006</td>\n",
       "</tr>\n",
       "<tr>\n",
       "         <td>Date:</td>        <td>2020-05-17 17:21</td>       <td>BIC:</td>        <td>19381.7214</td>\n",
       "</tr>\n",
       "<tr>\n",
       "   <td>No. Observations:</td>        <td>31647</td>       <td>Log-Likelihood:</td>    <td>-9473.3</td> \n",
       "</tr>\n",
       "<tr>\n",
       "       <td>Df Model:</td>             <td>41</td>            <td>LL-Null:</td>        <td>-11398.</td> \n",
       "</tr>\n",
       "<tr>\n",
       "     <td>Df Residuals:</td>          <td>31605</td>        <td>LLR p-value:</td>      <td>0.0000</td>  \n",
       "</tr>\n",
       "<tr>\n",
       "      <td>Converged:</td>           <td>1.0000</td>           <td>Scale:</td>         <td>1.0000</td>  \n",
       "</tr>\n",
       "<tr>\n",
       "    <td>No. Iterations:</td>        <td>9.0000</td>              <td></td>               <td></td>     \n",
       "</tr>\n",
       "</table>\n",
       "<table class=\"simpletable\">\n",
       "<tr>\n",
       "           <td></td>             <th>Coef.</th>   <th>Std.Err.</th>      <th>z</th>     <th>P>|z|</th>    <th>[0.025</th>        <th>0.975]</th>   \n",
       "</tr>\n",
       "<tr>\n",
       "  <th>const</th>               <td>-11.1484</td> <td>670607.8616</td> <td>-0.0000</td> <td>1.0000</td> <td>-1314378.4048</td> <td>1314356.1081</td>\n",
       "</tr>\n",
       "<tr>\n",
       "  <th>age</th>                  <td>0.1722</td>    <td>0.1808</td>    <td>0.9528</td>  <td>0.3407</td>    <td>-0.1821</td>       <td>0.5265</td>   \n",
       "</tr>\n",
       "<tr>\n",
       "  <th>balance</th>              <td>1.7393</td>    <td>0.6171</td>    <td>2.8185</td>  <td>0.0048</td>    <td>0.5298</td>        <td>2.9487</td>   \n",
       "</tr>\n",
       "<tr>\n",
       "  <th>day</th>                  <td>0.1303</td>    <td>0.0801</td>    <td>1.6270</td>  <td>0.1037</td>    <td>-0.0267</td>       <td>0.2872</td>   \n",
       "</tr>\n",
       "<tr>\n",
       "  <th>campaign</th>             <td>-5.1824</td>   <td>0.6324</td>    <td>-8.1951</td> <td>0.0000</td>    <td>-6.4218</td>       <td>-3.9429</td>  \n",
       "</tr>\n",
       "<tr>\n",
       "  <th>pdays</th>                <td>0.1064</td>    <td>0.2851</td>    <td>0.3730</td>  <td>0.7091</td>    <td>-0.4525</td>       <td>0.6652</td>   \n",
       "</tr>\n",
       "<tr>\n",
       "  <th>previous</th>             <td>2.2441</td>    <td>1.7214</td>    <td>1.3037</td>  <td>0.1923</td>    <td>-1.1298</td>       <td>5.6181</td>   \n",
       "</tr>\n",
       "<tr>\n",
       "  <th>job_admin.</th>           <td>12.3370</td>     <td>nan</td>       <td>nan</td>     <td>nan</td>       <td>nan</td>           <td>nan</td>    \n",
       "</tr>\n",
       "<tr>\n",
       "  <th>job_blue-collar</th>      <td>12.2418</td>     <td>nan</td>       <td>nan</td>     <td>nan</td>       <td>nan</td>           <td>nan</td>    \n",
       "</tr>\n",
       "<tr>\n",
       "  <th>job_entrepreneur</th>     <td>12.1855</td>     <td>nan</td>       <td>nan</td>     <td>nan</td>       <td>nan</td>           <td>nan</td>    \n",
       "</tr>\n",
       "<tr>\n",
       "  <th>job_housemaid</th>        <td>12.1332</td>     <td>nan</td>       <td>nan</td>     <td>nan</td>       <td>nan</td>           <td>nan</td>    \n",
       "</tr>\n",
       "<tr>\n",
       "  <th>job_management</th>       <td>12.2865</td>     <td>nan</td>       <td>nan</td>     <td>nan</td>       <td>nan</td>           <td>nan</td>    \n",
       "</tr>\n",
       "<tr>\n",
       "  <th>job_retired</th>          <td>12.6888</td>     <td>nan</td>       <td>nan</td>     <td>nan</td>       <td>nan</td>           <td>nan</td>    \n",
       "</tr>\n",
       "<tr>\n",
       "  <th>job_self-employed</th>    <td>12.2625</td>     <td>nan</td>       <td>nan</td>     <td>nan</td>       <td>nan</td>           <td>nan</td>    \n",
       "</tr>\n",
       "<tr>\n",
       "  <th>job_services</th>         <td>12.2706</td>     <td>nan</td>       <td>nan</td>     <td>nan</td>       <td>nan</td>           <td>nan</td>    \n",
       "</tr>\n",
       "<tr>\n",
       "  <th>job_student</th>          <td>12.6260</td>     <td>nan</td>       <td>nan</td>     <td>nan</td>       <td>nan</td>           <td>nan</td>    \n",
       "</tr>\n",
       "<tr>\n",
       "  <th>job_technician</th>       <td>12.2249</td>     <td>nan</td>       <td>nan</td>     <td>nan</td>       <td>nan</td>           <td>nan</td>    \n",
       "</tr>\n",
       "<tr>\n",
       "  <th>job_unemployed</th>       <td>12.5182</td>     <td>nan</td>       <td>nan</td>     <td>nan</td>       <td>nan</td>           <td>nan</td>    \n",
       "</tr>\n",
       "<tr>\n",
       "  <th>job_unknown</th>          <td>12.0233</td>     <td>nan</td>       <td>nan</td>     <td>nan</td>       <td>nan</td>           <td>nan</td>    \n",
       "</tr>\n",
       "<tr>\n",
       "  <th>marital_divorced</th>     <td>-1.8487</td> <td>297320.4933</td> <td>-0.0000</td> <td>1.0000</td> <td>-582739.3074</td>   <td>582735.6100</td>\n",
       "</tr>\n",
       "<tr>\n",
       "  <th>marital_married</th>      <td>-2.0477</td> <td>277075.8958</td> <td>-0.0000</td> <td>1.0000</td> <td>-543060.8244</td>   <td>543056.7290</td>\n",
       "</tr>\n",
       "<tr>\n",
       "  <th>marital_single</th>       <td>-1.7110</td> <td>130778.2860</td> <td>-0.0000</td> <td>1.0000</td> <td>-256322.4416</td>   <td>256319.0195</td>\n",
       "</tr>\n",
       "<tr>\n",
       "  <th>education_primary</th>    <td>-0.2813</td>     <td>nan</td>       <td>nan</td>     <td>nan</td>       <td>nan</td>           <td>nan</td>    \n",
       "</tr>\n",
       "<tr>\n",
       "  <th>education_secondary</th>  <td>-0.1145</td>     <td>nan</td>       <td>nan</td>     <td>nan</td>       <td>nan</td>           <td>nan</td>    \n",
       "</tr>\n",
       "<tr>\n",
       "  <th>education_tertiary</th>   <td>0.0338</td>      <td>nan</td>       <td>nan</td>     <td>nan</td>       <td>nan</td>           <td>nan</td>    \n",
       "</tr>\n",
       "<tr>\n",
       "  <th>education_unknown</th>    <td>-0.1328</td>     <td>nan</td>       <td>nan</td>     <td>nan</td>       <td>nan</td>           <td>nan</td>    \n",
       "</tr>\n",
       "<tr>\n",
       "  <th>default_no</th>           <td>-0.1966</td>     <td>nan</td>       <td>nan</td>     <td>nan</td>       <td>nan</td>           <td>nan</td>    \n",
       "</tr>\n",
       "<tr>\n",
       "  <th>default_yes</th>          <td>-0.2982</td>     <td>nan</td>       <td>nan</td>     <td>nan</td>       <td>nan</td>           <td>nan</td>    \n",
       "</tr>\n",
       "<tr>\n",
       "  <th>housing_no</th>           <td>0.0278</td>      <td>nan</td>       <td>nan</td>     <td>nan</td>       <td>nan</td>           <td>nan</td>    \n",
       "</tr>\n",
       "<tr>\n",
       "  <th>housing_yes</th>          <td>-0.5226</td>     <td>nan</td>       <td>nan</td>     <td>nan</td>       <td>nan</td>           <td>nan</td>    \n",
       "</tr>\n",
       "<tr>\n",
       "  <th>loan_no</th>              <td>-0.0437</td> <td>851261.6413</td> <td>-0.0000</td> <td>1.0000</td> <td>-1668442.2020</td> <td>1668442.1146</td>\n",
       "</tr>\n",
       "<tr>\n",
       "  <th>loan_yes</th>             <td>-0.4511</td> <td>933903.7184</td> <td>-0.0000</td> <td>1.0000</td> <td>-1830418.1041</td> <td>1830417.2019</td>\n",
       "</tr>\n",
       "<tr>\n",
       "  <th>contact_cellular</th>     <td>0.3462</td>  <td>701648.8282</td> <td>0.0000</td>  <td>1.0000</td> <td>-1375206.0870</td> <td>1375206.7793</td>\n",
       "</tr>\n",
       "<tr>\n",
       "  <th>contact_telephone</th>    <td>0.1580</td>  <td>699527.2934</td> <td>0.0000</td>  <td>1.0000</td> <td>-1371048.1433</td> <td>1371048.4592</td>\n",
       "</tr>\n",
       "<tr>\n",
       "  <th>contact_unknown</th>      <td>-0.9990</td> <td>708774.9789</td> <td>-0.0000</td> <td>1.0000</td> <td>-1389174.4307</td> <td>1389172.4328</td>\n",
       "</tr>\n",
       "<tr>\n",
       "  <th>month_apr</th>            <td>0.1298</td>      <td>nan</td>       <td>nan</td>     <td>nan</td>       <td>nan</td>           <td>nan</td>    \n",
       "</tr>\n",
       "<tr>\n",
       "  <th>month_aug</th>            <td>-0.7571</td>     <td>nan</td>       <td>nan</td>     <td>nan</td>       <td>nan</td>           <td>nan</td>    \n",
       "</tr>\n",
       "<tr>\n",
       "  <th>month_dec</th>            <td>0.6387</td>      <td>nan</td>       <td>nan</td>     <td>nan</td>       <td>nan</td>           <td>nan</td>    \n",
       "</tr>\n",
       "<tr>\n",
       "  <th>month_feb</th>            <td>-0.3684</td>     <td>nan</td>       <td>nan</td>     <td>nan</td>       <td>nan</td>           <td>nan</td>    \n",
       "</tr>\n",
       "<tr>\n",
       "  <th>month_jan</th>            <td>-1.0476</td>     <td>nan</td>       <td>nan</td>     <td>nan</td>       <td>nan</td>           <td>nan</td>    \n",
       "</tr>\n",
       "<tr>\n",
       "  <th>month_jul</th>            <td>-0.6381</td>     <td>nan</td>       <td>nan</td>     <td>nan</td>       <td>nan</td>           <td>nan</td>    \n",
       "</tr>\n",
       "<tr>\n",
       "  <th>month_jun</th>            <td>0.1593</td>      <td>nan</td>       <td>nan</td>     <td>nan</td>       <td>nan</td>           <td>nan</td>    \n",
       "</tr>\n",
       "<tr>\n",
       "  <th>month_mar</th>            <td>1.1111</td>      <td>nan</td>       <td>nan</td>     <td>nan</td>       <td>nan</td>           <td>nan</td>    \n",
       "</tr>\n",
       "<tr>\n",
       "  <th>month_may</th>            <td>-0.4154</td>     <td>nan</td>       <td>nan</td>     <td>nan</td>       <td>nan</td>           <td>nan</td>    \n",
       "</tr>\n",
       "<tr>\n",
       "  <th>month_nov</th>            <td>-0.7702</td>     <td>nan</td>       <td>nan</td>     <td>nan</td>       <td>nan</td>           <td>nan</td>    \n",
       "</tr>\n",
       "<tr>\n",
       "  <th>month_oct</th>            <td>0.7331</td>      <td>nan</td>       <td>nan</td>     <td>nan</td>       <td>nan</td>           <td>nan</td>    \n",
       "</tr>\n",
       "<tr>\n",
       "  <th>month_sep</th>            <td>0.7300</td>      <td>nan</td>       <td>nan</td>     <td>nan</td>       <td>nan</td>           <td>nan</td>    \n",
       "</tr>\n",
       "<tr>\n",
       "  <th>poutcome_failure</th>     <td>-0.7756</td>     <td>nan</td>       <td>nan</td>     <td>nan</td>       <td>nan</td>           <td>nan</td>    \n",
       "</tr>\n",
       "<tr>\n",
       "  <th>poutcome_other</th>       <td>-0.5005</td>     <td>nan</td>       <td>nan</td>     <td>nan</td>       <td>nan</td>           <td>nan</td>    \n",
       "</tr>\n",
       "<tr>\n",
       "  <th>poutcome_success</th>     <td>1.4689</td>      <td>nan</td>       <td>nan</td>     <td>nan</td>       <td>nan</td>           <td>nan</td>    \n",
       "</tr>\n",
       "<tr>\n",
       "  <th>poutcome_unknown</th>     <td>-0.6876</td>     <td>nan</td>       <td>nan</td>     <td>nan</td>       <td>nan</td>           <td>nan</td>    \n",
       "</tr>\n",
       "</table>"
      ],
      "text/plain": [
       "<class 'statsmodels.iolib.summary2.Summary'>\n",
       "\"\"\"\n",
       "                                  Results: Logit\n",
       "==================================================================================\n",
       "Model:                     Logit                 Pseudo R-squared:      0.169     \n",
       "Dependent Variable:        Target_yes            AIC:                   19030.5006\n",
       "Date:                      2020-05-17 17:21      BIC:                   19381.7214\n",
       "No. Observations:          31647                 Log-Likelihood:        -9473.3   \n",
       "Df Model:                  41                    LL-Null:               -11398.   \n",
       "Df Residuals:              31605                 LLR p-value:           0.0000    \n",
       "Converged:                 1.0000                Scale:                 1.0000    \n",
       "No. Iterations:            9.0000                                                 \n",
       "----------------------------------------------------------------------------------\n",
       "                     Coef.     Std.Err.     z    P>|z|      [0.025       0.975]   \n",
       "----------------------------------------------------------------------------------\n",
       "const               -11.1484 670607.8616 -0.0000 1.0000 -1314378.4048 1314356.1081\n",
       "age                   0.1722      0.1808  0.9528 0.3407       -0.1821       0.5265\n",
       "balance               1.7393      0.6171  2.8185 0.0048        0.5298       2.9487\n",
       "day                   0.1303      0.0801  1.6270 0.1037       -0.0267       0.2872\n",
       "campaign             -5.1824      0.6324 -8.1951 0.0000       -6.4218      -3.9429\n",
       "pdays                 0.1064      0.2851  0.3730 0.7091       -0.4525       0.6652\n",
       "previous              2.2441      1.7214  1.3037 0.1923       -1.1298       5.6181\n",
       "job_admin.           12.3370         nan     nan    nan           nan          nan\n",
       "job_blue-collar      12.2418         nan     nan    nan           nan          nan\n",
       "job_entrepreneur     12.1855         nan     nan    nan           nan          nan\n",
       "job_housemaid        12.1332         nan     nan    nan           nan          nan\n",
       "job_management       12.2865         nan     nan    nan           nan          nan\n",
       "job_retired          12.6888         nan     nan    nan           nan          nan\n",
       "job_self-employed    12.2625         nan     nan    nan           nan          nan\n",
       "job_services         12.2706         nan     nan    nan           nan          nan\n",
       "job_student          12.6260         nan     nan    nan           nan          nan\n",
       "job_technician       12.2249         nan     nan    nan           nan          nan\n",
       "job_unemployed       12.5182         nan     nan    nan           nan          nan\n",
       "job_unknown          12.0233         nan     nan    nan           nan          nan\n",
       "marital_divorced     -1.8487 297320.4933 -0.0000 1.0000  -582739.3074  582735.6100\n",
       "marital_married      -2.0477 277075.8958 -0.0000 1.0000  -543060.8244  543056.7290\n",
       "marital_single       -1.7110 130778.2860 -0.0000 1.0000  -256322.4416  256319.0195\n",
       "education_primary    -0.2813         nan     nan    nan           nan          nan\n",
       "education_secondary  -0.1145         nan     nan    nan           nan          nan\n",
       "education_tertiary    0.0338         nan     nan    nan           nan          nan\n",
       "education_unknown    -0.1328         nan     nan    nan           nan          nan\n",
       "default_no           -0.1966         nan     nan    nan           nan          nan\n",
       "default_yes          -0.2982         nan     nan    nan           nan          nan\n",
       "housing_no            0.0278         nan     nan    nan           nan          nan\n",
       "housing_yes          -0.5226         nan     nan    nan           nan          nan\n",
       "loan_no              -0.0437 851261.6413 -0.0000 1.0000 -1668442.2020 1668442.1146\n",
       "loan_yes             -0.4511 933903.7184 -0.0000 1.0000 -1830418.1041 1830417.2019\n",
       "contact_cellular      0.3462 701648.8282  0.0000 1.0000 -1375206.0870 1375206.7793\n",
       "contact_telephone     0.1580 699527.2934  0.0000 1.0000 -1371048.1433 1371048.4592\n",
       "contact_unknown      -0.9990 708774.9789 -0.0000 1.0000 -1389174.4307 1389172.4328\n",
       "month_apr             0.1298         nan     nan    nan           nan          nan\n",
       "month_aug            -0.7571         nan     nan    nan           nan          nan\n",
       "month_dec             0.6387         nan     nan    nan           nan          nan\n",
       "month_feb            -0.3684         nan     nan    nan           nan          nan\n",
       "month_jan            -1.0476         nan     nan    nan           nan          nan\n",
       "month_jul            -0.6381         nan     nan    nan           nan          nan\n",
       "month_jun             0.1593         nan     nan    nan           nan          nan\n",
       "month_mar             1.1111         nan     nan    nan           nan          nan\n",
       "month_may            -0.4154         nan     nan    nan           nan          nan\n",
       "month_nov            -0.7702         nan     nan    nan           nan          nan\n",
       "month_oct             0.7331         nan     nan    nan           nan          nan\n",
       "month_sep             0.7300         nan     nan    nan           nan          nan\n",
       "poutcome_failure     -0.7756         nan     nan    nan           nan          nan\n",
       "poutcome_other       -0.5005         nan     nan    nan           nan          nan\n",
       "poutcome_success      1.4689         nan     nan    nan           nan          nan\n",
       "poutcome_unknown     -0.6876         nan     nan    nan           nan          nan\n",
       "==================================================================================\n",
       "\n",
       "\"\"\""
      ]
     },
     "execution_count": 59,
     "metadata": {},
     "output_type": "execute_result"
    }
   ],
   "source": [
    "import statsmodels.api as sm\n",
    "logit = sm.Logit( y_train, sm.add_constant( X_train ) )\n",
    "lg = logit.fit()\n",
    "lg.summary2()"
   ]
  },
  {
   "cell_type": "code",
   "execution_count": 60,
   "metadata": {},
   "outputs": [],
   "source": [
    "lgcoef = pd.DataFrame(lg.params,columns=['coef'] )\n",
    "lgcoef.loc[:, \"Odds_ratio\"] = np.exp(lgcoef.coef)\n",
    "lgcoef['probability'] = lgcoef['Odds_ratio']/(1+lgcoef['Odds_ratio'])\n",
    "lgcoef['pval']=lg.pvalues\n",
    "pd.options.display.float_format = '{:.2f}'.format"
   ]
  },
  {
   "cell_type": "code",
   "execution_count": 61,
   "metadata": {},
   "outputs": [
    {
     "data": {
      "text/html": [
       "<div>\n",
       "<style scoped>\n",
       "    .dataframe tbody tr th:only-of-type {\n",
       "        vertical-align: middle;\n",
       "    }\n",
       "\n",
       "    .dataframe tbody tr th {\n",
       "        vertical-align: top;\n",
       "    }\n",
       "\n",
       "    .dataframe thead th {\n",
       "        text-align: right;\n",
       "    }\n",
       "</style>\n",
       "<table border=\"1\" class=\"dataframe\">\n",
       "  <thead>\n",
       "    <tr style=\"text-align: right;\">\n",
       "      <th></th>\n",
       "      <th>coef</th>\n",
       "      <th>Odds_ratio</th>\n",
       "      <th>probability</th>\n",
       "      <th>pval</th>\n",
       "    </tr>\n",
       "  </thead>\n",
       "  <tbody>\n",
       "    <tr>\n",
       "      <th>balance</th>\n",
       "      <td>1.74</td>\n",
       "      <td>5.69</td>\n",
       "      <td>0.85</td>\n",
       "      <td>0.00</td>\n",
       "    </tr>\n",
       "    <tr>\n",
       "      <th>campaign</th>\n",
       "      <td>-5.18</td>\n",
       "      <td>0.01</td>\n",
       "      <td>0.01</td>\n",
       "      <td>0.00</td>\n",
       "    </tr>\n",
       "  </tbody>\n",
       "</table>\n",
       "</div>"
      ],
      "text/plain": [
       "          coef  Odds_ratio  probability  pval\n",
       "balance   1.74        5.69         0.85  0.00\n",
       "campaign -5.18        0.01         0.01  0.00"
      ]
     },
     "execution_count": 61,
     "metadata": {},
     "output_type": "execute_result"
    }
   ],
   "source": [
    "lgcoef = lgcoef.sort_values(by=\"Odds_ratio\", ascending=False)\n",
    "pval_filter = lgcoef['pval']<=0.1\n",
    "lgcoef[pval_filter]"
   ]
  },
  {
   "cell_type": "code",
   "execution_count": 62,
   "metadata": {},
   "outputs": [
    {
     "data": {
      "text/plain": [
       "LogisticRegression(C=1.0, class_weight=None, dual=False, fit_intercept=True,\n",
       "          intercept_scaling=1, max_iter=100, multi_class='warn',\n",
       "          n_jobs=None, penalty='l2', random_state=None, solver='warn',\n",
       "          tol=0.0001, verbose=0, warm_start=False)"
      ]
     },
     "execution_count": 62,
     "metadata": {},
     "output_type": "execute_result"
    }
   ],
   "source": [
    "#predict for testdata\n",
    "from sklearn import metrics\n",
    "from sklearn.linear_model import LogisticRegression\n",
    "\n",
    "logreg = LogisticRegression()\n",
    "logreg.fit(X_train, y_train)"
   ]
  },
  {
   "cell_type": "code",
   "execution_count": 63,
   "metadata": {},
   "outputs": [
    {
     "name": "stdout",
     "output_type": "stream",
     "text": [
      "[[27611   345]\n",
      " [ 3045   646]]\n"
     ]
    }
   ],
   "source": [
    "#Predict for train set\n",
    "pred_train = logreg.predict(X_train)\n",
    "\n",
    "from sklearn.metrics import classification_report,confusion_matrix\n",
    "mat_train = confusion_matrix(y_train,pred_train)\n",
    "\n",
    "print(mat_train)"
   ]
  },
  {
   "cell_type": "code",
   "execution_count": 64,
   "metadata": {},
   "outputs": [
    {
     "name": "stdout",
     "output_type": "stream",
     "text": [
      "Accuracy of logistic regression classifier on test set: 89.29%\n",
      "Misclassification Rate: It is often wrong: 10.71%\n",
      "Sensitivity: When its actually yes how often it predicts yes: 17.50%\n",
      "Specificity: When its actually no, how often does it predict no: 98.77%\n",
      "Precision: When it predicts yes, how often is it correct: 65.19%\n"
     ]
    }
   ],
   "source": [
    "#true positives (TP): These are cases in which we predicted yes, and actually took loan.\n",
    "TP=646\n",
    "#true negatives (TN): We predicted no, and they actually did not took loan.\n",
    "TN=27611\n",
    "#false positives (FP): We predicted yes, but they don't actually took loan.(Also known as a \"Type I error.\")\n",
    "FP=345\n",
    "#false negatives (FN): We predicted no, but they actually took loan.(Also known as a \"Type II error.\")\n",
    "FN=3045\n",
    "Accuracy=float((TP+TN))/(TP+TN+FP+FN)\n",
    "print('Accuracy of logistic regression classifier on test set: {:.2%}'.format(Accuracy))\n",
    "\n",
    "Misclassification_Rate=float((FP+FN))/(TP+TN+FP+FN)\n",
    "print('Misclassification Rate: It is often wrong: {:.2%}'.format(Misclassification_Rate))\n",
    "\n",
    "#Recall\n",
    "Sensitivity=float(TP)/(FN+TP)\n",
    "print('Sensitivity: When its actually yes how often it predicts yes: {:.2%}'.format(Sensitivity))\n",
    "\n",
    "Specificity=float(TN)/(TN+FP)\n",
    "print('Specificity: When its actually no, how often does it predict no: {:.2%}'.format(Specificity))\n",
    "\n",
    "Precision=float(TP)/(FP+TP)\n",
    "print('Precision: When it predicts yes, how often is it correct: {:.2%}'.format(Precision))\n",
    "\n"
   ]
  },
  {
   "cell_type": "code",
   "execution_count": 65,
   "metadata": {},
   "outputs": [
    {
     "name": "stdout",
     "output_type": "stream",
     "text": [
      "[[11816   150]\n",
      " [ 1307   291]]\n"
     ]
    }
   ],
   "source": [
    "#Predict for test set\n",
    "pred_test = logreg.predict(X_test)\n",
    "\n",
    "mat_test = confusion_matrix(y_test,pred_test)\n",
    "print(mat_test)"
   ]
  },
  {
   "cell_type": "code",
   "execution_count": 66,
   "metadata": {},
   "outputs": [
    {
     "name": "stdout",
     "output_type": "stream",
     "text": [
      "Accuracy of logistic regression classifier on test set: 89.26%\n",
      "Misclassification Rate: It is often wrong: 10.74%\n",
      "Sensitivity: When its actually yes how often it predicts yes: 18.21%\n",
      "Specificity: When its actually no, how often does it predict no: 98.75%\n",
      "Precision: When it predicts yes, how often is it correct: 65.99%\n"
     ]
    }
   ],
   "source": [
    "#true positives (TP): These are cases in which we predicted yes, and actually took loan.\n",
    "TP=291\n",
    "#true negatives (TN): We predicted no, and they actually did not took loan.\n",
    "TN=11816\n",
    "#false positives (FP): We predicted yes, but they don't actually took loan.(Also known as a \"Type I error.\")\n",
    "FP=150\n",
    "#false negatives (FN): We predicted no, but they actually took loan.(Also known as a \"Type II error.\")\n",
    "FN=1307\n",
    "Accuracy=float((TP+TN))/(TP+TN+FP+FN)\n",
    "print('Accuracy of logistic regression classifier on test set: {:.2%}'.format(Accuracy))\n",
    "\n",
    "Misclassification_Rate=float((FP+FN))/(TP+TN+FP+FN)\n",
    "print('Misclassification Rate: It is often wrong: {:.2%}'.format(Misclassification_Rate))\n",
    "\n",
    "#Recall\n",
    "Sensitivity=float(TP)/(FN+TP)\n",
    "print('Sensitivity: When its actually yes how often it predicts yes: {:.2%}'.format(Sensitivity))\n",
    "\n",
    "Specificity=float(TN)/(TN+FP)\n",
    "print('Specificity: When its actually no, how often does it predict no: {:.2%}'.format(Specificity))\n",
    "\n",
    "Precision=float(TP)/(FP+TP)\n",
    "print('Precision: When it predicts yes, how often is it correct: {:.2%}'.format(Precision))\n",
    "\n"
   ]
  },
  {
   "cell_type": "code",
   "execution_count": 67,
   "metadata": {},
   "outputs": [
    {
     "name": "stdout",
     "output_type": "stream",
     "text": [
      "              precision    recall  f1-score   support\n",
      "\n",
      "         0.0       0.90      0.99      0.94     11966\n",
      "         1.0       0.66      0.18      0.29      1598\n",
      "\n",
      "   micro avg       0.89      0.89      0.89     13564\n",
      "   macro avg       0.78      0.58      0.61     13564\n",
      "weighted avg       0.87      0.89      0.86     13564\n",
      "\n"
     ]
    }
   ],
   "source": [
    "from sklearn.metrics import classification_report\n",
    "print(classification_report(y_test, y_pred))"
   ]
  },
  {
   "cell_type": "markdown",
   "metadata": {},
   "source": [
    "K Nearest Neighbours"
   ]
  },
  {
   "cell_type": "code",
   "execution_count": 68,
   "metadata": {},
   "outputs": [],
   "source": [
    "from sklearn.neighbors import KNeighborsClassifier"
   ]
  },
  {
   "cell_type": "code",
   "execution_count": 69,
   "metadata": {},
   "outputs": [
    {
     "name": "stdout",
     "output_type": "stream",
     "text": [
      "KNN Algorithm\n",
      "Classification Report\n",
      "              precision    recall  f1-score   support\n",
      "\n",
      "         0.0       0.89      0.99      0.94     11966\n",
      "         1.0       0.65      0.10      0.17      1598\n",
      "\n",
      "   micro avg       0.89      0.89      0.89     13564\n",
      "   macro avg       0.77      0.55      0.56     13564\n",
      "weighted avg       0.86      0.89      0.85     13564\n",
      "\n"
     ]
    }
   ],
   "source": [
    "classifier = KNeighborsClassifier(n_neighbors=100,weights=\"distance\")  \n",
    "classifier.fit(X_train, y_train)  \n",
    "y_pred = classifier.predict(X_test)  \n",
    "\n",
    "print(\"KNN Algorithm\")\n",
    "print(\"Classification Report\")\n",
    "print(classification_report(y_test, y_pred))"
   ]
  },
  {
   "cell_type": "code",
   "execution_count": 70,
   "metadata": {},
   "outputs": [],
   "source": [
    "predicted_labels_KNN = classifier.predict(X_test)"
   ]
  },
  {
   "cell_type": "code",
   "execution_count": 71,
   "metadata": {},
   "outputs": [
    {
     "data": {
      "text/plain": [
       "0.887791212031849"
      ]
     },
     "execution_count": 71,
     "metadata": {},
     "output_type": "execute_result"
    }
   ],
   "source": [
    "classifier.score(X_test, y_test)"
   ]
  },
  {
   "cell_type": "code",
   "execution_count": 72,
   "metadata": {},
   "outputs": [
    {
     "name": "stdout",
     "output_type": "stream",
     "text": [
      "[[11881    85]\n",
      " [ 1437   161]]\n"
     ]
    }
   ],
   "source": [
    "print(metrics.confusion_matrix(y_test, predicted_labels_KNN))"
   ]
  },
  {
   "cell_type": "code",
   "execution_count": 73,
   "metadata": {},
   "outputs": [
    {
     "name": "stdout",
     "output_type": "stream",
     "text": [
      "Accuracy of logistic regression classifier on test set: 88.78%\n",
      "Misclassification Rate: It is often wrong: 11.22%\n",
      "Sensitivity: When its actually yes how often it predicts yes: 10.08%\n",
      "Specificity: When its actually no, how often does it predict no: 99.29%\n",
      "Precision: When it predicts yes, how often is it correct: 65.45%\n"
     ]
    }
   ],
   "source": [
    "#true positives (TP): These are cases in which we predicted yes, and actually took loan.\n",
    "TP=161\n",
    "#true negatives (TN): We predicted no, and they actually did not took loan.\n",
    "TN=11881\n",
    "#false positives (FP): We predicted yes, but they don't actually took loan.(Also known as a \"Type I error.\")\n",
    "FP=85\n",
    "#false negatives (FN): We predicted no, but they actually took loan.(Also known as a \"Type II error.\")\n",
    "FN=1437\n",
    "Accuracy=float((TP+TN))/(TP+TN+FP+FN)\n",
    "print('Accuracy of logistic regression classifier on test set: {:.2%}'.format(Accuracy))\n",
    "\n",
    "Misclassification_Rate=float((FP+FN))/(TP+TN+FP+FN)\n",
    "print('Misclassification Rate: It is often wrong: {:.2%}'.format(Misclassification_Rate))\n",
    "\n",
    "#Recall\n",
    "Sensitivity=float(TP)/(FN+TP)\n",
    "print('Sensitivity: When its actually yes how often it predicts yes: {:.2%}'.format(Sensitivity))\n",
    "\n",
    "Specificity=float(TN)/(TN+FP)\n",
    "print('Specificity: When its actually no, how often does it predict no: {:.2%}'.format(Specificity))\n",
    "\n",
    "Precision=float(TP)/(FP+TP)\n",
    "print('Precision: When it predicts yes, how often is it correct: {:.2%}'.format(Precision))\n",
    "\n"
   ]
  },
  {
   "cell_type": "markdown",
   "metadata": {},
   "source": [
    "Random forest"
   ]
  },
  {
   "cell_type": "code",
   "execution_count": 74,
   "metadata": {},
   "outputs": [
    {
     "name": "stdout",
     "output_type": "stream",
     "text": [
      "('Random Forest Algorithm', '\\n')\n",
      "('Classification Report', '\\n')\n",
      "              precision    recall  f1-score   support\n",
      "\n",
      "         0.0       0.90      0.99      0.94     11966\n",
      "         1.0       0.66      0.18      0.28      1598\n",
      "\n",
      "   micro avg       0.89      0.89      0.89     13564\n",
      "   macro avg       0.78      0.58      0.61     13564\n",
      "weighted avg       0.87      0.89      0.86     13564\n",
      "\n"
     ]
    }
   ],
   "source": [
    "from sklearn.ensemble import RandomForestClassifier\n",
    "rf = RandomForestClassifier(n_estimators=10 ,n_jobs=-1,\n",
    "                            random_state=42, \n",
    "                            max_depth= 5\n",
    "                           # class_weight=\"balanced\",\n",
    "                            #max_features=10)\n",
    "                            )\n",
    "\n",
    "rf.fit(X_train, y_train)\n",
    "rf_predict = rf.predict(X_test)\n",
    "print(\"Random Forest Algorithm\",\"\\n\")\n",
    "print(\"Classification Report\",\"\\n\")\n",
    "print(classification_report(y_test, rf_predict))"
   ]
  },
  {
   "cell_type": "code",
   "execution_count": 78,
   "metadata": {},
   "outputs": [
    {
     "name": "stdout",
     "output_type": "stream",
     "text": [
      "[[11821   145]\n",
      " [ 1311   287]]\n"
     ]
    }
   ],
   "source": [
    "print(metrics.confusion_matrix(y_test, rf_predict))\n",
    "\n"
   ]
  },
  {
   "cell_type": "code",
   "execution_count": 76,
   "metadata": {},
   "outputs": [
    {
     "name": "stdout",
     "output_type": "stream",
     "text": [
      "Accuracy of logistic regression classifier on test set: 89.27%\n",
      "Misclassification Rate: It is often wrong: 10.73%\n",
      "Sensitivity: When its actually yes how often it predicts yes: 17.96%\n",
      "Specificity: When its actually no, how often does it predict no: 98.79%\n",
      "Precision: When it predicts yes, how often is it correct: 66.44%\n"
     ]
    }
   ],
   "source": [
    "#true positives (TP): These are cases in which we predicted yes, and actually took loan.\n",
    "TP=287\n",
    "#true negatives (TN): We predicted no, and they actually did not took loan.\n",
    "TN=11821\n",
    "#false positives (FP): We predicted yes, but they don't actually took loan.(Also known as a \"Type I error.\")\n",
    "FP=145\n",
    "#false negatives (FN): We predicted no, but they actually took loan.(Also known as a \"Type II error.\")\n",
    "FN=1311\n",
    "Accuracy=float((TP+TN))/(TP+TN+FP+FN)\n",
    "print('Accuracy of logistic regression classifier on test set: {:.2%}'.format(Accuracy))\n",
    "\n",
    "Misclassification_Rate=float((FP+FN))/(TP+TN+FP+FN)\n",
    "print('Misclassification Rate: It is often wrong: {:.2%}'.format(Misclassification_Rate))\n",
    "\n",
    "#Recall\n",
    "Sensitivity=float(TP)/(FN+TP)\n",
    "print('Sensitivity: When its actually yes how often it predicts yes: {:.2%}'.format(Sensitivity))\n",
    "\n",
    "Specificity=float(TN)/(TN+FP)\n",
    "print('Specificity: When its actually no, how often does it predict no: {:.2%}'.format(Specificity))\n",
    "\n",
    "Precision=float(TP)/(FP+TP)\n",
    "print('Precision: When it predicts yes, how often is it correct: {:.2%}'.format(Precision))\n",
    "\n"
   ]
  },
  {
   "cell_type": "code",
   "execution_count": 77,
   "metadata": {},
   "outputs": [
    {
     "data": {
      "image/png": "[encoded data removed]",
      "text/plain": [
       "<Figure size 432x288 with 1 Axes>"
      ]
     },
     "metadata": {
      "needs_background": "light"
     },
     "output_type": "display_data"
    }
   ],
   "source": [
    "ranking = rf.feature_importances_\n",
    "features = np.argsort(ranking)[::-1][:10]\n",
    "columns = data_scaled.columns\n",
    "plt.title(\"Feature importances based on Random Forest Regressor\", y = 1.03, size = 18)\n",
    "plt.bar(range(len(features)), ranking[features], color=\"aqua\", align=\"center\")\n",
    "plt.xticks(range(len(features)), columns[features], rotation=80)\n",
    "plt.show()"
   ]
  }
 ],
 "metadata": {
  "kernelspec": {
   "display_name": "Python [conda env:base] *",
   "language": "python",
   "name": "conda-base-py"
  },
  "language_info": {
   "codemirror_mode": {
    "name": "ipython",
    "version": 3
   },
   "file_extension": ".py",
   "mimetype": "text/x-python",
   "name": "python",
   "nbconvert_exporter": "python",
   "pygments_lexer": "ipython3",
   "version": "3.12.7"
  }
 },
 "nbformat": 4,
 "nbformat_minor": 4
}
